{
 "cells": [
  {
   "cell_type": "code",
   "execution_count": 1,
   "metadata": {},
   "outputs": [],
   "source": [
    "import numpy as np\n",
    "from scipy.stats import logistic"
   ]
  },
  {
   "cell_type": "code",
   "execution_count": 2,
   "metadata": {},
   "outputs": [],
   "source": [
    "def onehot_output(output):\n",
    "    result = np.zeros(output.shape)\n",
    "    for i in range(output.shape[0]):\n",
    "        o = output[i, :]\n",
    "        result[i, o.argmax()] = 1\n",
    "    return result"
   ]
  },
  {
   "cell_type": "code",
   "execution_count": 3,
   "metadata": {},
   "outputs": [],
   "source": [
    "class NeuralNetwork:\n",
    "    \n",
    "    def __init__(self, X, Y, hidden_layers, learning_rate, n_iterations):\n",
    "        self.X = X\n",
    "        self.Y = Y\n",
    "        self.learning_rate = learning_rate\n",
    "        self.n_iterations = n_iterations\n",
    "        self.layers = [np.zeros((X.shape[0], i)) for i in hidden_layers]\n",
    "        self.weight = [np.matrix(np.random.rand(hidden_layers[0], X.shape[1]))] \\\n",
    "                    + [np.matrix(np.random.rand(hidden_layers[i+1], hidden_layers[i])) for i in range(len(hidden_layers)-1)] \\\n",
    "                    + [np.matrix(np.random.rand(Y.shape[1], hidden_layers[-1]))]\n",
    "        self.output = np.zeros(Y.shape)\n",
    "    \n",
    "    def get_weight(self):\n",
    "        return self.weight\n",
    "    \n",
    "    def get_hidden_values(self):\n",
    "        return self.layers\n",
    "    \n",
    "    def forward_propagation(self):\n",
    "        X = self.X\n",
    "        for i in range(len(self.weight)-1):\n",
    "            self.layers[i] = logistic.cdf(X.dot(self.weight[i].T))\n",
    "            X = self.layers[i]\n",
    "        self.output = logistic.cdf(X.dot(self.weight[-1].T))\n",
    "    \n",
    "    def backpropagation(self):\n",
    "        deltas = self.calculate_deltas()\n",
    "        for i, (delta, X) in enumerate(zip(deltas, [self.X] + self.layers)):\n",
    "            self.weight[i] += self.learning_rate / self.X.shape[0] * delta.T.dot(X)\n",
    "    \n",
    "    def calculate_deltas(self):\n",
    "        output_error = self.output_error()\n",
    "        deltas = self.hidden_layer_error(output_error) + [output_error]\n",
    "        return deltas\n",
    "    \n",
    "    def output_error(self):\n",
    "        return self.output * (1 - self.output) * (self.Y - self.output)\n",
    "    \n",
    "    def hidden_layer_error(self, output_error):\n",
    "        result = []\n",
    "        error = output_error\n",
    "        for layer, weight in zip(reversed(self.layers), reversed(self.weight[1:])):\n",
    "            result.append(np.array(layer * (1 - layer)) * np.array(error.dot(weight)))\n",
    "            error = result[-1]\n",
    "        return list(reversed(result))\n",
    "    \n",
    "    def update_learning_rate(self, current_iteration):\n",
    "        self.learning_rate = self.learning_rate * 1\n",
    "    \n",
    "    def train(self):\n",
    "        for i in range(self.n_iterations):\n",
    "            self.forward_propagation()\n",
    "            self.backpropagation()\n",
    "            self.update_learning_rate(i)\n",
    "    \n",
    "    def predict(self, new_inputs):\n",
    "        output = new_inputs\n",
    "        for weight in self.weight:\n",
    "            output = logistic.cdf(output.dot(weight.T))\n",
    "        return output"
   ]
  },
  {
   "cell_type": "code",
   "execution_count": 4,
   "metadata": {},
   "outputs": [],
   "source": [
    "class StochasticNeuralNetwork:\n",
    "    \n",
    "    def __init__(self, X, Y, hidden_layers, learning_rate, n_iterations):\n",
    "        self.X = X\n",
    "        self.Y = Y\n",
    "        self.learning_rate = learning_rate\n",
    "        self.n_iterations = n_iterations\n",
    "        self.layers = [np.zeros((i, 1)) for i in hidden_layers]\n",
    "        self.weight = [np.matrix(np.random.rand(hidden_layers[0], X.shape[1]))] \\\n",
    "                    + [np.matrix(np.random.rand(hidden_layers[i+1], hidden_layers[i])) for i in range(len(hidden_layers)-1)] \\\n",
    "                    + [np.matrix(np.random.rand(Y.shape[1], hidden_layers[-1]))]\n",
    "        self.input = np.zeros((X.shape[1], 1))\n",
    "        self.output = np.zeros((Y.shape[1], 1))\n",
    "        self.curr_index = 0\n",
    "        self.next_index = 0\n",
    "    \n",
    "    def get_weight(self):\n",
    "        return self.weight\n",
    "    \n",
    "    def get_hidden_values(self):\n",
    "        return self.layers\n",
    "    \n",
    "    def set_input(self):\n",
    "        self.curr_index = self.next_index\n",
    "        self.input = self.X[self.curr_index, :].reshape(-1, 1)\n",
    "        self.next_index = (self.curr_index + 1) % self.X.shape[0]\n",
    "    \n",
    "    def forward_propagation(self):\n",
    "        x = self.input\n",
    "        weight = self.weight[0]\n",
    "        for i in range(len(self.layers)):\n",
    "            self.layers[i] = logistic.cdf(weight.dot(x)).reshape(-1, 1)\n",
    "            x = self.layers[i]\n",
    "            weight = self.weight[i+1]\n",
    "        self.output = logistic.cdf(weight.dot(x)).reshape(-1, 1)\n",
    "    \n",
    "    def backpropagation(self):\n",
    "        deltas = self.calculate_deltas()\n",
    "        for i, (delta, x) in enumerate(zip(deltas, [self.input] + self.layers)):\n",
    "            self.weight[i] += self.learning_rate * delta.dot(x.T)\n",
    "    \n",
    "    def calculate_deltas(self):\n",
    "        output_error = self.output_error()\n",
    "        deltas = self.hidden_layer_error(output_error) + [output_error]\n",
    "        return deltas\n",
    "    \n",
    "    def output_error(self):\n",
    "        y = self.Y[self.curr_index, :].reshape(-1, 1)\n",
    "        o = self.output\n",
    "        return o * (1 - o) * (y - o)\n",
    "    \n",
    "    def hidden_layer_error(self, output_error):\n",
    "        result = []\n",
    "        error = output_error\n",
    "        for layer, weight in zip(reversed(self.layers), reversed(self.weight[1:])):\n",
    "            result.append(layer * (1 - layer) * np.array(weight.T.dot(error)))\n",
    "            error = result[-1]\n",
    "        return list(reversed(result))\n",
    "    \n",
    "    def train(self):\n",
    "        for i in range(self.n_iterations):\n",
    "            self.set_input()\n",
    "            self.forward_propagation()\n",
    "            self.backpropagation()\n",
    "    \n",
    "    def predict(self, new_inputs):\n",
    "        output = new_inputs\n",
    "        for weight in self.weight:\n",
    "            output = logistic.cdf(output.dot(weight.T))\n",
    "        return output"
   ]
  },
  {
   "cell_type": "markdown",
   "metadata": {},
   "source": [
    "### Test size 2:"
   ]
  },
  {
   "cell_type": "code",
   "execution_count": 5,
   "metadata": {},
   "outputs": [],
   "source": [
    "size = 2"
   ]
  },
  {
   "cell_type": "code",
   "execution_count": 6,
   "metadata": {},
   "outputs": [],
   "source": [
    "nn = NeuralNetwork(np.eye(size), np.eye(size), (1,), 1, 10000)\n",
    "nn.train()"
   ]
  },
  {
   "cell_type": "code",
   "execution_count": 7,
   "metadata": {},
   "outputs": [
    {
     "data": {
      "text/plain": [
       "array([[0.4997707 , 0.5002293 ],\n",
       "       [0.01171122, 0.98828907]])"
      ]
     },
     "execution_count": 7,
     "metadata": {},
     "output_type": "execute_result"
    }
   ],
   "source": [
    "prediction = nn.predict(np.matrix(np.eye(size)))\n",
    "prediction"
   ]
  },
  {
   "cell_type": "code",
   "execution_count": 8,
   "metadata": {
    "scrolled": true
   },
   "outputs": [
    {
     "data": {
      "text/plain": [
       "array([[0., 1.],\n",
       "       [0., 1.]])"
      ]
     },
     "execution_count": 8,
     "metadata": {},
     "output_type": "execute_result"
    }
   ],
   "source": [
    "onehot_output(prediction)"
   ]
  },
  {
   "cell_type": "code",
   "execution_count": 9,
   "metadata": {},
   "outputs": [
    {
     "name": "stdout",
     "output_type": "stream",
     "text": [
      "[[-8.51582524  3.41962791]]\n",
      "[[-4.58057523]\n",
      " [ 4.58060072]]\n"
     ]
    }
   ],
   "source": [
    "for i in nn.get_weight():\n",
    "    print(i)"
   ]
  },
  {
   "cell_type": "code",
   "execution_count": 10,
   "metadata": {},
   "outputs": [
    {
     "name": "stdout",
     "output_type": "stream",
     "text": [
      "[[0.]\n",
      " [1.]]\n"
     ]
    }
   ],
   "source": [
    "for i in nn.get_hidden_values():\n",
    "    print(i.round())"
   ]
  },
  {
   "cell_type": "markdown",
   "metadata": {},
   "source": [
    "### Test size 4:"
   ]
  },
  {
   "cell_type": "code",
   "execution_count": 11,
   "metadata": {},
   "outputs": [],
   "source": [
    "size = 4"
   ]
  },
  {
   "cell_type": "code",
   "execution_count": 12,
   "metadata": {},
   "outputs": [],
   "source": [
    "nn = NeuralNetwork(np.eye(size), np.eye(size), (2,), 1, 10000)\n",
    "nn.train()"
   ]
  },
  {
   "cell_type": "code",
   "execution_count": 13,
   "metadata": {},
   "outputs": [
    {
     "data": {
      "text/plain": [
       "array([[9.44099570e-01, 1.05046412e-01, 1.80424891e-08, 1.05046412e-01],\n",
       "       [1.03331960e-01, 3.50896485e-01, 1.03540562e-01, 3.50896485e-01],\n",
       "       [1.63870997e-08, 1.04827823e-01, 9.44106086e-01, 1.04827823e-01],\n",
       "       [1.03331960e-01, 3.50896485e-01, 1.03540562e-01, 3.50896485e-01]])"
      ]
     },
     "execution_count": 13,
     "metadata": {},
     "output_type": "execute_result"
    }
   ],
   "source": [
    "prediction = nn.predict(np.matrix(np.eye(size)))\n",
    "prediction"
   ]
  },
  {
   "cell_type": "code",
   "execution_count": 14,
   "metadata": {
    "scrolled": true
   },
   "outputs": [
    {
     "data": {
      "text/plain": [
       "array([[1., 0., 0., 0.],\n",
       "       [0., 0., 0., 1.],\n",
       "       [0., 0., 1., 0.],\n",
       "       [0., 0., 0., 1.]])"
      ]
     },
     "execution_count": 14,
     "metadata": {},
     "output_type": "execute_result"
    }
   ],
   "source": [
    "onehot_output(prediction)"
   ]
  },
  {
   "cell_type": "code",
   "execution_count": 15,
   "metadata": {},
   "outputs": [
    {
     "name": "stdout",
     "output_type": "stream",
     "text": [
      "[[1. 0.]\n",
      " [0. 0.]\n",
      " [0. 1.]\n",
      " [0. 0.]]\n"
     ]
    }
   ],
   "source": [
    "for i in nn.get_hidden_values():\n",
    "    print(i.round())"
   ]
  },
  {
   "cell_type": "markdown",
   "metadata": {},
   "source": [
    "### Test size 8:"
   ]
  },
  {
   "cell_type": "code",
   "execution_count": 16,
   "metadata": {},
   "outputs": [],
   "source": [
    "size = 8"
   ]
  },
  {
   "cell_type": "code",
   "execution_count": 17,
   "metadata": {},
   "outputs": [],
   "source": [
    "nn = NeuralNetwork(np.eye(size), np.eye(size), (3,), 1, 10000)\n",
    "nn.train()"
   ]
  },
  {
   "cell_type": "code",
   "execution_count": 18,
   "metadata": {
    "scrolled": true
   },
   "outputs": [
    {
     "data": {
      "text/plain": [
       "array([[8.97777654e-01, 7.77996885e-03, 9.07960899e-08, 3.00872489e-08,\n",
       "        2.34081085e-02, 9.64294043e-03, 2.00829185e-02, 1.64456215e-01],\n",
       "       [1.15153811e-02, 9.22974814e-01, 3.22911605e-06, 4.14140258e-02,\n",
       "        1.23606073e-06, 4.66854461e-02, 6.55656595e-02, 1.08921176e-01],\n",
       "       [1.63726465e-07, 8.08209459e-08, 9.12795261e-01, 6.92452856e-03,\n",
       "        3.44589333e-02, 1.11512369e-01, 7.18186921e-02, 6.17153582e-03],\n",
       "       [1.54897100e-06, 4.18496060e-02, 9.86818184e-03, 9.11981410e-01,\n",
       "        6.54664019e-07, 1.15425752e-01, 9.60275357e-02, 1.88699930e-02],\n",
       "       [2.62796622e-02, 7.97697606e-06, 3.56023385e-02, 7.00284890e-06,\n",
       "        9.28846500e-01, 7.73871223e-02, 8.36873644e-02, 8.64186483e-02],\n",
       "       [1.51289084e-02, 3.06537695e-02, 1.29486209e-01, 1.07940023e-01,\n",
       "        4.80403972e-02, 2.54629161e-01, 2.48560117e-01, 1.78449579e-01],\n",
       "       [3.19137443e-02, 5.18935873e-02, 9.01884624e-02, 8.94246702e-02,\n",
       "        5.63933236e-02, 2.53843164e-01, 2.54685510e-01, 2.08649745e-01],\n",
       "       [1.83314193e-01, 9.91920508e-02, 7.44514146e-03, 1.00086834e-02,\n",
       "        5.62842543e-02, 1.72265849e-01, 1.96764626e-01, 2.54749821e-01]])"
      ]
     },
     "execution_count": 18,
     "metadata": {},
     "output_type": "execute_result"
    }
   ],
   "source": [
    "prediction = nn.predict(np.matrix(np.eye(size)))\n",
    "prediction"
   ]
  },
  {
   "cell_type": "code",
   "execution_count": 19,
   "metadata": {
    "scrolled": true
   },
   "outputs": [
    {
     "data": {
      "text/plain": [
       "array([[1., 0., 0., 0., 0., 0., 0., 0.],\n",
       "       [0., 1., 0., 0., 0., 0., 0., 0.],\n",
       "       [0., 0., 1., 0., 0., 0., 0., 0.],\n",
       "       [0., 0., 0., 1., 0., 0., 0., 0.],\n",
       "       [0., 0., 0., 0., 1., 0., 0., 0.],\n",
       "       [0., 0., 0., 0., 0., 1., 0., 0.],\n",
       "       [0., 0., 0., 0., 0., 0., 1., 0.],\n",
       "       [0., 0., 0., 0., 0., 0., 0., 1.]])"
      ]
     },
     "execution_count": 19,
     "metadata": {},
     "output_type": "execute_result"
    }
   ],
   "source": [
    "onehot_output(prediction)"
   ]
  },
  {
   "cell_type": "code",
   "execution_count": 20,
   "metadata": {},
   "outputs": [
    {
     "name": "stdout",
     "output_type": "stream",
     "text": [
      "[[1. 0. 1.]\n",
      " [0. 0. 1.]\n",
      " [1. 1. 0.]\n",
      " [0. 1. 1.]\n",
      " [1. 0. 0.]\n",
      " [0. 0. 0.]\n",
      " [0. 0. 0.]\n",
      " [0. 0. 0.]]\n"
     ]
    }
   ],
   "source": [
    "for i in nn.get_hidden_values():\n",
    "    print(i.round())"
   ]
  },
  {
   "cell_type": "markdown",
   "metadata": {},
   "source": [
    "### Test size 16:"
   ]
  },
  {
   "cell_type": "code",
   "execution_count": 21,
   "metadata": {},
   "outputs": [],
   "source": [
    "size = 16"
   ]
  },
  {
   "cell_type": "code",
   "execution_count": 22,
   "metadata": {},
   "outputs": [],
   "source": [
    "nn = NeuralNetwork(np.eye(size), np.eye(size), (4,), 1, 10000)\n",
    "nn.train()"
   ]
  },
  {
   "cell_type": "code",
   "execution_count": 23,
   "metadata": {},
   "outputs": [
    {
     "data": {
      "text/plain": [
       "array([[5.56038234e-01, 6.02960874e-06, 7.46371874e-02, 1.51837333e-05,\n",
       "        2.10485723e-03, 2.25600084e-06, 4.83443722e-02, 1.50673075e-02,\n",
       "        1.34395659e-01, 1.98721714e-01, 6.26137712e-04, 1.20960855e-02,\n",
       "        3.07535080e-02, 7.16696273e-04, 9.34415633e-03, 3.46434738e-05],\n",
       "       [5.53962170e-05, 7.61186080e-01, 1.50378220e-02, 2.83747433e-02,\n",
       "        1.81497997e-01, 7.03869432e-02, 5.20879706e-07, 9.50389688e-02,\n",
       "        2.48447618e-07, 2.64997384e-05, 6.13599883e-04, 3.55221010e-03,\n",
       "        8.90527759e-02, 6.60143804e-05, 9.84776908e-03, 5.76238102e-06],\n",
       "       [9.85140587e-02, 7.37234328e-03, 2.13863970e-01, 5.56489940e-02,\n",
       "        9.04574826e-02, 1.54737602e-02, 1.21603312e-01, 3.10323284e-02,\n",
       "        5.02658882e-02, 3.83780002e-02, 3.38866926e-02, 1.46260145e-02,\n",
       "        1.49455236e-01, 7.50679906e-02, 8.33910180e-02, 6.58464515e-02],\n",
       "       [1.78206442e-04, 3.47879217e-02, 7.66764258e-02, 7.13012710e-01,\n",
       "        2.41191120e-01, 9.62402331e-02, 3.16279018e-03, 2.00479417e-03,\n",
       "        1.58285906e-05, 8.48190974e-05, 2.94956623e-02, 4.14274387e-05,\n",
       "        6.85422689e-02, 1.56933654e-02, 9.60379610e-03, 1.59716185e-01],\n",
       "       [7.00778269e-04, 1.79978909e-01, 4.72331957e-02, 1.69053222e-01,\n",
       "        4.29437571e-01, 2.67685463e-03, 7.07005876e-04, 1.07241791e-01,\n",
       "        1.51481778e-06, 4.28124959e-03, 2.06782519e-01, 2.72436520e-04,\n",
       "        7.25832912e-02, 8.14872071e-05, 1.78489221e-03, 5.01710931e-04],\n",
       "       [3.13629647e-05, 1.16613323e-01, 2.91782092e-02, 1.14617940e-01,\n",
       "        2.93178171e-02, 8.27704592e-01, 3.11852577e-06, 6.51670631e-04,\n",
       "        3.12386582e-05, 2.86683440e-07, 9.77649118e-06, 1.35254321e-03,\n",
       "        8.57080018e-02, 7.03255637e-02, 1.39819533e-01, 3.82669078e-03],\n",
       "       [9.16344793e-02, 5.85321635e-06, 1.54535398e-01, 1.09564981e-02,\n",
       "        1.98016519e-02, 1.92502556e-05, 8.16678407e-01, 1.06672889e-03,\n",
       "        1.67525021e-02, 6.98986546e-02, 7.73507089e-02, 4.11866480e-05,\n",
       "        2.56107676e-02, 9.19213792e-03, 2.68874462e-03, 1.16145980e-01],\n",
       "       [5.71781815e-02, 1.31760351e-01, 5.45658851e-02, 1.10293929e-03,\n",
       "        1.30640157e-01, 4.02087866e-04, 3.63566736e-04, 7.11771353e-01,\n",
       "        2.26329082e-04, 1.52825802e-01, 2.37300041e-02, 1.07243212e-01,\n",
       "        1.24937834e-01, 4.22965996e-05, 1.06985834e-02, 3.47912359e-06],\n",
       "       [2.56795865e-01, 2.40798224e-07, 6.91785700e-02, 8.35064745e-06,\n",
       "        1.27027377e-04, 5.58004881e-05, 1.59376668e-02, 1.14976673e-04,\n",
       "        8.19553499e-01, 8.17518791e-04, 1.07121518e-06, 7.49823575e-03,\n",
       "        2.18780281e-02, 1.14347594e-01, 9.83439671e-02, 6.91272831e-04],\n",
       "       [2.28066603e-01, 6.61763533e-05, 5.39809473e-02, 1.24963275e-04,\n",
       "        2.99371363e-02, 1.83919637e-07, 6.22929490e-02, 1.46574021e-01,\n",
       "        4.09673355e-04, 7.35779300e-01, 1.40532317e-01, 7.69004521e-04,\n",
       "        2.40969684e-02, 5.54223081e-06, 3.59112070e-04, 8.28982369e-06],\n",
       "       [1.59063682e-03, 3.08690962e-04, 3.15933440e-02, 1.97814866e-02,\n",
       "        2.14083946e-01, 5.99836664e-07, 3.06331602e-02, 2.25471174e-02,\n",
       "        2.56768908e-07, 7.18806080e-02, 7.73380389e-01, 1.33034595e-06,\n",
       "        1.22428736e-02, 1.28363080e-06, 2.38289928e-05, 1.68309477e-04],\n",
       "       [6.28448089e-02, 7.82916983e-03, 2.61183148e-02, 6.13115989e-06,\n",
       "        1.81931817e-03, 2.90885448e-03, 2.85142027e-06, 9.92308288e-02,\n",
       "        2.03677520e-02, 8.25424801e-04, 9.47477909e-07, 7.93759212e-01,\n",
       "        1.01907517e-01, 1.16799411e-03, 2.35570426e-01, 1.69567509e-07],\n",
       "       [4.59259209e-02, 8.69760906e-02, 1.50223711e-01, 3.53393310e-02,\n",
       "        1.11390272e-01, 6.71004938e-02, 5.80265646e-03, 1.02496411e-01,\n",
       "        1.39521569e-02, 1.32820533e-02, 8.99962365e-03, 8.18037926e-02,\n",
       "        2.02951205e-01, 3.30645738e-02, 1.44279046e-01, 5.78786115e-03],\n",
       "       [3.61122542e-03, 2.32278232e-05, 8.37803331e-02, 6.50991526e-03,\n",
       "        1.48770904e-03, 4.59273954e-02, 4.77534689e-03, 2.48050268e-05,\n",
       "        9.44990242e-02, 7.24746781e-06, 4.62261024e-06, 5.58410428e-04,\n",
       "        3.93684386e-02, 7.14748805e-01, 1.87948211e-01, 1.57245640e-01],\n",
       "       [1.91644237e-02, 4.94093123e-03, 6.96998358e-02, 8.25819791e-04,\n",
       "        3.89301697e-03, 1.46116607e-01, 1.06621877e-04, 4.63802612e-03,\n",
       "        9.91425792e-02, 9.05919500e-05, 3.62713566e-06, 2.08983547e-01,\n",
       "        1.26443484e-01, 1.86596532e-01, 4.96739327e-01, 5.68699476e-04],\n",
       "       [3.05177669e-04, 2.15579612e-06, 6.97637189e-02, 1.34846986e-01,\n",
       "        6.76035198e-03, 1.16815092e-03, 1.11575491e-01, 3.63156622e-06,\n",
       "        4.96126293e-04, 1.05875566e-05, 7.81659740e-04, 3.57632809e-07,\n",
       "        1.11187542e-02, 1.36810560e-01, 3.38431268e-03, 7.77272375e-01]])"
      ]
     },
     "execution_count": 23,
     "metadata": {},
     "output_type": "execute_result"
    }
   ],
   "source": [
    "prediction = nn.predict(np.matrix(np.eye(size)))\n",
    "prediction"
   ]
  },
  {
   "cell_type": "code",
   "execution_count": 24,
   "metadata": {
    "scrolled": true
   },
   "outputs": [
    {
     "data": {
      "text/plain": [
       "array([[1., 0., 0., 0., 0., 0., 0., 0., 0., 0., 0., 0., 0., 0., 0., 0.],\n",
       "       [0., 1., 0., 0., 0., 0., 0., 0., 0., 0., 0., 0., 0., 0., 0., 0.],\n",
       "       [0., 0., 1., 0., 0., 0., 0., 0., 0., 0., 0., 0., 0., 0., 0., 0.],\n",
       "       [0., 0., 0., 1., 0., 0., 0., 0., 0., 0., 0., 0., 0., 0., 0., 0.],\n",
       "       [0., 0., 0., 0., 1., 0., 0., 0., 0., 0., 0., 0., 0., 0., 0., 0.],\n",
       "       [0., 0., 0., 0., 0., 1., 0., 0., 0., 0., 0., 0., 0., 0., 0., 0.],\n",
       "       [0., 0., 0., 0., 0., 0., 1., 0., 0., 0., 0., 0., 0., 0., 0., 0.],\n",
       "       [0., 0., 0., 0., 0., 0., 0., 1., 0., 0., 0., 0., 0., 0., 0., 0.],\n",
       "       [0., 0., 0., 0., 0., 0., 0., 0., 1., 0., 0., 0., 0., 0., 0., 0.],\n",
       "       [0., 0., 0., 0., 0., 0., 0., 0., 0., 1., 0., 0., 0., 0., 0., 0.],\n",
       "       [0., 0., 0., 0., 0., 0., 0., 0., 0., 0., 1., 0., 0., 0., 0., 0.],\n",
       "       [0., 0., 0., 0., 0., 0., 0., 0., 0., 0., 0., 1., 0., 0., 0., 0.],\n",
       "       [0., 0., 0., 0., 0., 0., 0., 0., 0., 0., 0., 0., 1., 0., 0., 0.],\n",
       "       [0., 0., 0., 0., 0., 0., 0., 0., 0., 0., 0., 0., 0., 1., 0., 0.],\n",
       "       [0., 0., 0., 0., 0., 0., 0., 0., 0., 0., 0., 0., 0., 0., 1., 0.],\n",
       "       [0., 0., 0., 0., 0., 0., 0., 0., 0., 0., 0., 0., 0., 0., 0., 1.]])"
      ]
     },
     "execution_count": 24,
     "metadata": {},
     "output_type": "execute_result"
    }
   ],
   "source": [
    "onehot_output(prediction)"
   ]
  },
  {
   "cell_type": "code",
   "execution_count": 25,
   "metadata": {},
   "outputs": [
    {
     "name": "stdout",
     "output_type": "stream",
     "text": [
      "[[1. 0. 0. 1.]\n",
      " [1. 1. 1. 0.]\n",
      " [0. 0. 0. 0.]\n",
      " [0. 1. 0. 0.]\n",
      " [1. 1. 0. 0.]\n",
      " [0. 1. 1. 0.]\n",
      " [0. 0. 0. 1.]\n",
      " [1. 0. 0. 0.]\n",
      " [0. 0. 1. 1.]\n",
      " [1. 0. 0. 1.]\n",
      " [1. 1. 0. 1.]\n",
      " [1. 0. 1. 0.]\n",
      " [0. 0. 0. 0.]\n",
      " [0. 1. 1. 1.]\n",
      " [0. 0. 1. 0.]\n",
      " [0. 1. 1. 1.]]\n"
     ]
    }
   ],
   "source": [
    "for i in nn.get_hidden_values():\n",
    "    print(i.round())"
   ]
  },
  {
   "cell_type": "markdown",
   "metadata": {},
   "source": [
    "## Test"
   ]
  },
  {
   "cell_type": "code",
   "execution_count": 26,
   "metadata": {},
   "outputs": [
    {
     "data": {
      "text/plain": [
       "matrix([[1, 1],\n",
       "        [0, 0],\n",
       "        [1, 0],\n",
       "        [0, 1]])"
      ]
     },
     "execution_count": 26,
     "metadata": {},
     "output_type": "execute_result"
    }
   ],
   "source": [
    "X = np.matrix([[1, 1], [0, 0], [1, 0], [0, 1]])\n",
    "X"
   ]
  },
  {
   "cell_type": "code",
   "execution_count": 27,
   "metadata": {},
   "outputs": [
    {
     "data": {
      "text/plain": [
       "array([[0],\n",
       "       [0],\n",
       "       [1],\n",
       "       [1]])"
      ]
     },
     "execution_count": 27,
     "metadata": {},
     "output_type": "execute_result"
    }
   ],
   "source": [
    "Y = np.array([0, 0, 1, 1]).reshape(-1, 1)\n",
    "Y"
   ]
  },
  {
   "cell_type": "code",
   "execution_count": 28,
   "metadata": {},
   "outputs": [],
   "source": [
    "nn = NeuralNetwork(X, Y, (2,), 0.6, 50000)\n",
    "nn.train()"
   ]
  },
  {
   "cell_type": "code",
   "execution_count": 29,
   "metadata": {},
   "outputs": [
    {
     "data": {
      "text/plain": [
       "array([[0.11102602],\n",
       "       [0.04182441],\n",
       "       [0.91658384],\n",
       "       [0.91658428]])"
      ]
     },
     "execution_count": 29,
     "metadata": {},
     "output_type": "execute_result"
    }
   ],
   "source": [
    "prediction = nn.predict(X)\n",
    "prediction"
   ]
  }
 ],
 "metadata": {
  "kernelspec": {
   "display_name": "Python 3",
   "language": "python",
   "name": "python3"
  },
  "language_info": {
   "codemirror_mode": {
    "name": "ipython",
    "version": 3
   },
   "file_extension": ".py",
   "mimetype": "text/x-python",
   "name": "python",
   "nbconvert_exporter": "python",
   "pygments_lexer": "ipython3",
   "version": "3.7.3"
  }
 },
 "nbformat": 4,
 "nbformat_minor": 2
}
